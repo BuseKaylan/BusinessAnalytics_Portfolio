{
 "cells": [
  {
   "cell_type": "markdown",
   "id": "a3e6d213",
   "metadata": {},
   "source": [
    "# POLYNOMIAL MODELS AND VALIDATION"
   ]
  },
  {
   "cell_type": "markdown",
   "id": "c50519db",
   "metadata": {},
   "source": [
    "**1)Consider the data set Exam3DataSet provided in the Ninova. The dataset \n",
    "includes x (that represent the single feature) and y (that represents the target \n",
    "variable) values of 100 different observations. You decided to use a polynomial \n",
    "regression model but worry about the choice of the degree of the polynomial.**"
   ]
  },
  {
   "cell_type": "markdown",
   "id": "c9658e63",
   "metadata": {},
   "source": [
    "**(a) Split your dataset into a test set and train set. (20% test set, 80% training set)**"
   ]
  },
  {
   "cell_type": "code",
   "execution_count": 1,
   "id": "7d9ca54b",
   "metadata": {},
   "outputs": [],
   "source": [
    "import pandas as pd\n",
    "import numpy as np"
   ]
  },
  {
   "cell_type": "code",
   "execution_count": 2,
   "id": "698d0e59",
   "metadata": {},
   "outputs": [
    {
     "data": {
      "text/html": [
       "<div>\n",
       "<style scoped>\n",
       "    .dataframe tbody tr th:only-of-type {\n",
       "        vertical-align: middle;\n",
       "    }\n",
       "\n",
       "    .dataframe tbody tr th {\n",
       "        vertical-align: top;\n",
       "    }\n",
       "\n",
       "    .dataframe thead th {\n",
       "        text-align: right;\n",
       "    }\n",
       "</style>\n",
       "<table border=\"1\" class=\"dataframe\">\n",
       "  <thead>\n",
       "    <tr style=\"text-align: right;\">\n",
       "      <th></th>\n",
       "      <th>x</th>\n",
       "      <th>y</th>\n",
       "    </tr>\n",
       "  </thead>\n",
       "  <tbody>\n",
       "    <tr>\n",
       "      <th>0</th>\n",
       "      <td>-4.809264</td>\n",
       "      <td>-92.911272</td>\n",
       "    </tr>\n",
       "    <tr>\n",
       "      <th>1</th>\n",
       "      <td>-4.722680</td>\n",
       "      <td>-98.506658</td>\n",
       "    </tr>\n",
       "    <tr>\n",
       "      <th>2</th>\n",
       "      <td>-3.852326</td>\n",
       "      <td>-63.212666</td>\n",
       "    </tr>\n",
       "    <tr>\n",
       "      <th>3</th>\n",
       "      <td>-3.687668</td>\n",
       "      <td>-51.036538</td>\n",
       "    </tr>\n",
       "    <tr>\n",
       "      <th>4</th>\n",
       "      <td>-3.602674</td>\n",
       "      <td>-54.784580</td>\n",
       "    </tr>\n",
       "  </tbody>\n",
       "</table>\n",
       "</div>"
      ],
      "text/plain": [
       "          x          y\n",
       "0 -4.809264 -92.911272\n",
       "1 -4.722680 -98.506658\n",
       "2 -3.852326 -63.212666\n",
       "3 -3.687668 -51.036538\n",
       "4 -3.602674 -54.784580"
      ]
     },
     "execution_count": 2,
     "metadata": {},
     "output_type": "execute_result"
    }
   ],
   "source": [
    "# After import Pandas, csv dataset is read.\n",
    "\n",
    "df = pd.read_csv('MiniExam3DataSet.csv')\n",
    "df.head()"
   ]
  },
  {
   "cell_type": "code",
   "execution_count": 3,
   "id": "731543b4",
   "metadata": {},
   "outputs": [],
   "source": [
    "X = np.array(df['x'].values.reshape(-1,1)) # Feature of the data\n",
    "Y = np.array(df['y'].values) # Target variable"
   ]
  },
  {
   "cell_type": "code",
   "execution_count": 4,
   "id": "82bf6e5e",
   "metadata": {},
   "outputs": [],
   "source": [
    "from sklearn.model_selection import train_test_split"
   ]
  },
  {
   "cell_type": "code",
   "execution_count": 5,
   "id": "2ee52e67",
   "metadata": {},
   "outputs": [],
   "source": [
    "# Data is splitted as being 20% test size and 80% training size:\n",
    "\n",
    "X_train, X_test, Y_train, Y_test = train_test_split(X, Y, test_size=0.2, random_state=5)"
   ]
  },
  {
   "cell_type": "markdown",
   "id": "bda9f419",
   "metadata": {},
   "source": [
    "**(b) Try different degrees of polynomial functions and pick the one that has the \n",
    "smallest LOOCV mean squared error, and report LOOCV validation errors of \n",
    "each polynomial functions**"
   ]
  },
  {
   "cell_type": "code",
   "execution_count": 6,
   "id": "5df845d1",
   "metadata": {},
   "outputs": [],
   "source": [
    "from sklearn.linear_model import LinearRegression\n",
    "from sklearn.model_selection import LeaveOneOut\n",
    "from sklearn.preprocessing import PolynomialFeatures\n",
    "from sklearn.metrics import mean_squared_error"
   ]
  },
  {
   "cell_type": "code",
   "execution_count": 7,
   "id": "3a85ae1f",
   "metadata": {},
   "outputs": [],
   "source": [
    "def pol_reg_model(degree, X_train_v, Y_train_v, X_valid, Y_valid):\n",
    "    \n",
    "    # Inputs of the pol_reg_model function are polynomial degree,\n",
    "    # validation splits from training set of the data as train_v and valid for X and Y.\n",
    "    # PolynomialFeatures function is added to pol_reg_model function, and input of this function degree of the polynomial\n",
    "    \n",
    "    features = PolynomialFeatures(degree=degree, include_bias=False)\n",
    "    \n",
    "    # Training and validation part of the X are fitted \n",
    "    # by using X_train_v and X_valid which came from input of this function\n",
    "    \n",
    "    X_train_pol = features.fit_transform(X_train_v)\n",
    "    X_valid_pol = features.fit_transform(X_valid) \n",
    "    \n",
    "    # LinearRegression model is added to the function, and this model is fitted by using \n",
    "    # X_train_pol (transformed training feature matrix based on the polynomial degree)\n",
    "    # and Y_train_v (actual target values in the training dataset)\n",
    "    \n",
    "    pol_model = LinearRegression()\n",
    "    pol_model.fit(X_train_pol, Y_train_v)\n",
    "    \n",
    "    # Then, predictions for Y_train and Y_valid are made \n",
    "    # by using X_train_pol and X_valid_pol \n",
    "    # which are transformed version of the training feature respect to polynomial degrees\n",
    "  \n",
    "    Y_train_pred = pol_model.predict(X_train_pol)\n",
    "    Y_valid_pred = pol_model.predict(X_valid_pol)\n",
    "    \n",
    "    # Finally, mean squared error scores are measured for validation and training sets,\n",
    "    # MSE scores show that how actual target values are differentiated from the LR predictions\n",
    "    \n",
    "    train_mse = mean_squared_error(Y_train_v, Y_train_pred)\n",
    "    valid_mse = mean_squared_error(Y_valid, Y_valid_pred)\n",
    "    \n",
    "    return train_mse, valid_mse, degree"
   ]
  },
  {
   "cell_type": "code",
   "execution_count": 8,
   "id": "4867a90a",
   "metadata": {},
   "outputs": [
    {
     "data": {
      "text/html": [
       "<div>\n",
       "<style scoped>\n",
       "    .dataframe tbody tr th:only-of-type {\n",
       "        vertical-align: middle;\n",
       "    }\n",
       "\n",
       "    .dataframe tbody tr th {\n",
       "        vertical-align: top;\n",
       "    }\n",
       "\n",
       "    .dataframe thead th {\n",
       "        text-align: right;\n",
       "    }\n",
       "</style>\n",
       "<table border=\"1\" class=\"dataframe\">\n",
       "  <thead>\n",
       "    <tr style=\"text-align: right;\">\n",
       "      <th></th>\n",
       "      <th>Validation Error</th>\n",
       "      <th>Degree</th>\n",
       "    </tr>\n",
       "  </thead>\n",
       "  <tbody>\n",
       "    <tr>\n",
       "      <th>0</th>\n",
       "      <td>520.607757</td>\n",
       "      <td>1</td>\n",
       "    </tr>\n",
       "    <tr>\n",
       "      <th>1</th>\n",
       "      <td>631.287810</td>\n",
       "      <td>2</td>\n",
       "    </tr>\n",
       "    <tr>\n",
       "      <th>2</th>\n",
       "      <td>10.591862</td>\n",
       "      <td>3</td>\n",
       "    </tr>\n",
       "    <tr>\n",
       "      <th>3</th>\n",
       "      <td>13.638137</td>\n",
       "      <td>4</td>\n",
       "    </tr>\n",
       "    <tr>\n",
       "      <th>4</th>\n",
       "      <td>20.684430</td>\n",
       "      <td>5</td>\n",
       "    </tr>\n",
       "    <tr>\n",
       "      <th>5</th>\n",
       "      <td>35.716891</td>\n",
       "      <td>6</td>\n",
       "    </tr>\n",
       "    <tr>\n",
       "      <th>6</th>\n",
       "      <td>32.185814</td>\n",
       "      <td>7</td>\n",
       "    </tr>\n",
       "  </tbody>\n",
       "</table>\n",
       "</div>"
      ],
      "text/plain": [
       "   Validation Error  Degree\n",
       "0        520.607757       1\n",
       "1        631.287810       2\n",
       "2         10.591862       3\n",
       "3         13.638137       4\n",
       "4         20.684430       5\n",
       "5         35.716891       6\n",
       "6         32.185814       7"
      ]
     },
     "execution_count": 8,
     "metadata": {},
     "output_type": "execute_result"
    }
   ],
   "source": [
    "LOO = LeaveOneOut()\n",
    "LOO_CV = []\n",
    "\n",
    "for j in range(1, 8):\n",
    "    \n",
    "    # This for loop tries each number (1 to 8) for the degree of the polynomial\n",
    "    \n",
    "    LOO_Errors = []\n",
    "    \n",
    "    # LOO is split into two parts: the index of the train and the index of the validation set\n",
    "    # With using these indexes, X_train_v and X_valid are defined.\n",
    "    \n",
    "    for train_index, validation_index in LOO.split(X_train):\n",
    "        X_train_v, X_valid = X_train[train_index], X_train[validation_index]\n",
    "        Y_train_v, Y_valid = Y_train[train_index], Y_train[validation_index]\n",
    "        \n",
    "        # Then, j (degree of the polynomial), X_train_v, Y_train_v, X_valid, and Y_valid\n",
    "        # are added to the previous function (pol_reg_model) to find mean squared error.\n",
    "        # These errors and related degrees are appended to LOO_Errors list.\n",
    "    \n",
    "        train_mse, valid_mse, degree = pol_reg_model(j, X_train_v, Y_train_v, X_valid, Y_valid)\n",
    "        LOO_Errors.append([train_mse, valid_mse, degree])\n",
    "        \n",
    "    # Finally, a dataframe is created using LOO_Errors list. In this dataframe, \n",
    "    # the training error, validation error, and the degree of all data points in the training set (80) are shown.\n",
    "    # Using this dataframe, the mean of the validation error is calculated for each degree and added to LOOCV_df.\n",
    "    \n",
    "    LOOCV_errors = pd.DataFrame(LOO_Errors, columns=['Training Error', 'Validation Error', 'Degree'])\n",
    "    LOO_CV.append([LOOCV_errors['Validation Error'].mean(), LOOCV_errors['Degree'][0]])\n",
    "\n",
    "LOOCV_df = pd.DataFrame(LOO_CV, columns=['Validation Error', 'Degree'])\n",
    "LOOCV_df\n"
   ]
  },
  {
   "cell_type": "code",
   "execution_count": 9,
   "id": "35e13128",
   "metadata": {},
   "outputs": [
    {
     "data": {
      "text/plain": [
       "<matplotlib.legend.Legend at 0x2523e7d2dc0>"
      ]
     },
     "execution_count": 9,
     "metadata": {},
     "output_type": "execute_result"
    },
    {
     "data": {
      "image/png": "[encoded data removed]",
      "text/plain": [
       "<Figure size 640x480 with 1 Axes>"
      ]
     },
     "metadata": {},
     "output_type": "display_data"
    }
   ],
   "source": [
    "import matplotlib.pyplot as plt \n",
    "\n",
    "fig = plt.figure()\n",
    "ax = fig.add_subplot(1, 1, 1)\n",
    "ax.plot(LOOCV_df['Degree'].values,LOOCV_df['Validation Error'].values,label = 'Leave One Out Error')\n",
    "ax.set_xlabel('Degree')\n",
    "ax.set_ylabel('Errors')\n",
    "ax.tick_params(axis='x', labelsize=8)\n",
    "ax.legend(loc='best')"
   ]
  },
  {
   "cell_type": "markdown",
   "id": "a19adef2",
   "metadata": {},
   "source": [
    "As shown at the LOOCV_df dataframe and the graph, validation error has lowest value (10.591862) at the 3rd degree of the polynomial according to the LOOCV mean squared error. "
   ]
  },
  {
   "cell_type": "markdown",
   "id": "fe385040",
   "metadata": {},
   "source": [
    "**(c) Refit your model on the training set with the selected degree of polynomial \n",
    "and compute the test mean squared error.**"
   ]
  },
  {
   "cell_type": "code",
   "execution_count": 10,
   "id": "a0c66292",
   "metadata": {},
   "outputs": [
    {
     "name": "stdout",
     "output_type": "stream",
     "text": [
      "MSE: 7.106966845948189\n"
     ]
    }
   ],
   "source": [
    "# PolynomialFeatures function is reused with degree 3, and it is fitted with X_train.\n",
    "\n",
    "pol_feat = PolynomialFeatures(degree=3,include_bias=False)\n",
    "\n",
    "# After fit_transform, new X_train is X_train_poly which is 3rd degree polynomial version of X_train\n",
    "\n",
    "X_train_poly = pol_feat.fit_transform(X_train)\n",
    "\n",
    "# X_train_poly and Y_train are fitted into the polynomial model\n",
    "\n",
    "pol_model = LinearRegression()\n",
    "pol_model.fit(X_train_poly, Y_train)\n",
    "\n",
    "# X_test values are also fitted into the polynomial features, and predictions are made\n",
    "\n",
    "X_test_poly = pol_feat.fit_transform(X_test)\n",
    "Y_test_predict=pol_model.predict(X_test_poly)\n",
    "\n",
    "# Finally, mean squared error is printed for Y_test and Y_test_predict values\n",
    "\n",
    "mse_test = mean_squared_error(Y_test, Y_test_predict)\n",
    "print(f\"MSE: {mse_test}\")"
   ]
  },
  {
   "cell_type": "markdown",
   "id": "73b891fb",
   "metadata": {},
   "source": [
    "When degree of the polynomial is arranged to 3, mean squared error for the test set is 7.106966845948189."
   ]
  },
  {
   "cell_type": "markdown",
   "id": "d4808b74",
   "metadata": {},
   "source": [
    "**(d) Try different degrees of polynomial functions and pick the one that has the \n",
    "smallest 5-fold cross validation mean squared error, and report 5-fold cross \n",
    "validation errors of each polynomial functions.**"
   ]
  },
  {
   "cell_type": "code",
   "execution_count": 11,
   "id": "1ba45f32",
   "metadata": {},
   "outputs": [],
   "source": [
    "from sklearn.model_selection import KFold"
   ]
  },
  {
   "cell_type": "code",
   "execution_count": 12,
   "id": "3e10fbc0",
   "metadata": {},
   "outputs": [],
   "source": [
    "# By using KFold(), training data is splitted into 5 equally-sized folds.\n",
    "\n",
    "kfold = KFold(n_splits=5, random_state=1, shuffle=True)\n",
    "CV_Errors=[]\n",
    "\n",
    "for j in range(1,8):\n",
    "    # With for loop, polynomial degrees (1 to 8) are tried into the data\n",
    "    \n",
    "    for train_index, validation_index in kfold.split(X_train):\n",
    "        X_trainv, X_valid, Y_trainv, Y_valid = X_train[train_index], X_train[validation_index], Y_train[train_index], Y_train[validation_index]\n",
    "        \n",
    "        # Respect to their indexes, training set is splitted as train_v and valid by using kfold cross-validation.\n",
    "        # Then, these are entered to the pol_reg_model function with their polynomial degrees.\n",
    "        # At least, dataframe is created by using output of the pol_reg_model function.\n",
    "        \n",
    "        CV_Errors.append(pol_reg_model(j, X_trainv, Y_trainv, X_valid, Y_valid))\n",
    "    kfold_cv = pd.DataFrame (CV_Errors,columns=['Training Error','Validation Error','Degree'])\n",
    "pd.set_option('display.max_rows', None)"
   ]
  },
  {
   "cell_type": "code",
   "execution_count": 13,
   "id": "2fabd7de",
   "metadata": {},
   "outputs": [
    {
     "data": {
      "text/html": [
       "<div>\n",
       "<style scoped>\n",
       "    .dataframe tbody tr th:only-of-type {\n",
       "        vertical-align: middle;\n",
       "    }\n",
       "\n",
       "    .dataframe tbody tr th {\n",
       "        vertical-align: top;\n",
       "    }\n",
       "\n",
       "    .dataframe thead th {\n",
       "        text-align: right;\n",
       "    }\n",
       "</style>\n",
       "<table border=\"1\" class=\"dataframe\">\n",
       "  <thead>\n",
       "    <tr style=\"text-align: right;\">\n",
       "      <th></th>\n",
       "      <th>Training Error</th>\n",
       "      <th>Validation Error</th>\n",
       "      <th>Degree</th>\n",
       "    </tr>\n",
       "  </thead>\n",
       "  <tbody>\n",
       "    <tr>\n",
       "      <th>0</th>\n",
       "      <td>509.472265</td>\n",
       "      <td>269.171404</td>\n",
       "      <td>1</td>\n",
       "    </tr>\n",
       "    <tr>\n",
       "      <th>1</th>\n",
       "      <td>514.972668</td>\n",
       "      <td>274.671441</td>\n",
       "      <td>1</td>\n",
       "    </tr>\n",
       "    <tr>\n",
       "      <th>2</th>\n",
       "      <td>252.628030</td>\n",
       "      <td>1479.231444</td>\n",
       "      <td>1</td>\n",
       "    </tr>\n",
       "    <tr>\n",
       "      <th>3</th>\n",
       "      <td>469.494403</td>\n",
       "      <td>432.580942</td>\n",
       "      <td>1</td>\n",
       "    </tr>\n",
       "    <tr>\n",
       "      <th>4</th>\n",
       "      <td>512.267286</td>\n",
       "      <td>291.677450</td>\n",
       "      <td>1</td>\n",
       "    </tr>\n",
       "    <tr>\n",
       "      <th>5</th>\n",
       "      <td>425.318407</td>\n",
       "      <td>530.535739</td>\n",
       "      <td>2</td>\n",
       "    </tr>\n",
       "    <tr>\n",
       "      <th>6</th>\n",
       "      <td>475.299981</td>\n",
       "      <td>276.616208</td>\n",
       "      <td>2</td>\n",
       "    </tr>\n",
       "    <tr>\n",
       "      <th>7</th>\n",
       "      <td>244.059331</td>\n",
       "      <td>1819.069917</td>\n",
       "      <td>2</td>\n",
       "    </tr>\n",
       "    <tr>\n",
       "      <th>8</th>\n",
       "      <td>417.700756</td>\n",
       "      <td>495.200156</td>\n",
       "      <td>2</td>\n",
       "    </tr>\n",
       "    <tr>\n",
       "      <th>9</th>\n",
       "      <td>472.659113</td>\n",
       "      <td>288.070691</td>\n",
       "      <td>2</td>\n",
       "    </tr>\n",
       "    <tr>\n",
       "      <th>10</th>\n",
       "      <td>8.103467</td>\n",
       "      <td>14.312279</td>\n",
       "      <td>3</td>\n",
       "    </tr>\n",
       "    <tr>\n",
       "      <th>11</th>\n",
       "      <td>9.621824</td>\n",
       "      <td>6.837317</td>\n",
       "      <td>3</td>\n",
       "    </tr>\n",
       "    <tr>\n",
       "      <th>12</th>\n",
       "      <td>8.702394</td>\n",
       "      <td>12.527041</td>\n",
       "      <td>3</td>\n",
       "    </tr>\n",
       "    <tr>\n",
       "      <th>13</th>\n",
       "      <td>8.448185</td>\n",
       "      <td>13.456295</td>\n",
       "      <td>3</td>\n",
       "    </tr>\n",
       "    <tr>\n",
       "      <th>14</th>\n",
       "      <td>9.568917</td>\n",
       "      <td>7.023732</td>\n",
       "      <td>3</td>\n",
       "    </tr>\n",
       "    <tr>\n",
       "      <th>15</th>\n",
       "      <td>8.076034</td>\n",
       "      <td>14.558855</td>\n",
       "      <td>4</td>\n",
       "    </tr>\n",
       "    <tr>\n",
       "      <th>16</th>\n",
       "      <td>9.619312</td>\n",
       "      <td>6.836650</td>\n",
       "      <td>4</td>\n",
       "    </tr>\n",
       "    <tr>\n",
       "      <th>17</th>\n",
       "      <td>8.386477</td>\n",
       "      <td>27.234521</td>\n",
       "      <td>4</td>\n",
       "    </tr>\n",
       "    <tr>\n",
       "      <th>18</th>\n",
       "      <td>8.353876</td>\n",
       "      <td>14.892970</td>\n",
       "      <td>4</td>\n",
       "    </tr>\n",
       "    <tr>\n",
       "      <th>19</th>\n",
       "      <td>9.562563</td>\n",
       "      <td>7.041891</td>\n",
       "      <td>4</td>\n",
       "    </tr>\n",
       "    <tr>\n",
       "      <th>20</th>\n",
       "      <td>7.928453</td>\n",
       "      <td>14.824177</td>\n",
       "      <td>5</td>\n",
       "    </tr>\n",
       "    <tr>\n",
       "      <th>21</th>\n",
       "      <td>9.364853</td>\n",
       "      <td>7.484160</td>\n",
       "      <td>5</td>\n",
       "    </tr>\n",
       "    <tr>\n",
       "      <th>22</th>\n",
       "      <td>8.324585</td>\n",
       "      <td>49.476683</td>\n",
       "      <td>5</td>\n",
       "    </tr>\n",
       "    <tr>\n",
       "      <th>23</th>\n",
       "      <td>8.318131</td>\n",
       "      <td>16.266000</td>\n",
       "      <td>5</td>\n",
       "    </tr>\n",
       "    <tr>\n",
       "      <th>24</th>\n",
       "      <td>9.441385</td>\n",
       "      <td>7.011922</td>\n",
       "      <td>5</td>\n",
       "    </tr>\n",
       "    <tr>\n",
       "      <th>25</th>\n",
       "      <td>7.872101</td>\n",
       "      <td>14.371106</td>\n",
       "      <td>6</td>\n",
       "    </tr>\n",
       "    <tr>\n",
       "      <th>26</th>\n",
       "      <td>9.183482</td>\n",
       "      <td>7.513376</td>\n",
       "      <td>6</td>\n",
       "    </tr>\n",
       "    <tr>\n",
       "      <th>27</th>\n",
       "      <td>8.318928</td>\n",
       "      <td>35.105239</td>\n",
       "      <td>6</td>\n",
       "    </tr>\n",
       "    <tr>\n",
       "      <th>28</th>\n",
       "      <td>8.199444</td>\n",
       "      <td>16.428781</td>\n",
       "      <td>6</td>\n",
       "    </tr>\n",
       "    <tr>\n",
       "      <th>29</th>\n",
       "      <td>9.225540</td>\n",
       "      <td>7.208478</td>\n",
       "      <td>6</td>\n",
       "    </tr>\n",
       "    <tr>\n",
       "      <th>30</th>\n",
       "      <td>6.481946</td>\n",
       "      <td>17.860492</td>\n",
       "      <td>7</td>\n",
       "    </tr>\n",
       "    <tr>\n",
       "      <th>31</th>\n",
       "      <td>8.657210</td>\n",
       "      <td>6.508525</td>\n",
       "      <td>7</td>\n",
       "    </tr>\n",
       "    <tr>\n",
       "      <th>32</th>\n",
       "      <td>8.227238</td>\n",
       "      <td>58.575391</td>\n",
       "      <td>7</td>\n",
       "    </tr>\n",
       "    <tr>\n",
       "      <th>33</th>\n",
       "      <td>7.972462</td>\n",
       "      <td>13.219149</td>\n",
       "      <td>7</td>\n",
       "    </tr>\n",
       "    <tr>\n",
       "      <th>34</th>\n",
       "      <td>8.363202</td>\n",
       "      <td>7.789698</td>\n",
       "      <td>7</td>\n",
       "    </tr>\n",
       "  </tbody>\n",
       "</table>\n",
       "</div>"
      ],
      "text/plain": [
       "    Training Error  Validation Error  Degree\n",
       "0       509.472265        269.171404       1\n",
       "1       514.972668        274.671441       1\n",
       "2       252.628030       1479.231444       1\n",
       "3       469.494403        432.580942       1\n",
       "4       512.267286        291.677450       1\n",
       "5       425.318407        530.535739       2\n",
       "6       475.299981        276.616208       2\n",
       "7       244.059331       1819.069917       2\n",
       "8       417.700756        495.200156       2\n",
       "9       472.659113        288.070691       2\n",
       "10        8.103467         14.312279       3\n",
       "11        9.621824          6.837317       3\n",
       "12        8.702394         12.527041       3\n",
       "13        8.448185         13.456295       3\n",
       "14        9.568917          7.023732       3\n",
       "15        8.076034         14.558855       4\n",
       "16        9.619312          6.836650       4\n",
       "17        8.386477         27.234521       4\n",
       "18        8.353876         14.892970       4\n",
       "19        9.562563          7.041891       4\n",
       "20        7.928453         14.824177       5\n",
       "21        9.364853          7.484160       5\n",
       "22        8.324585         49.476683       5\n",
       "23        8.318131         16.266000       5\n",
       "24        9.441385          7.011922       5\n",
       "25        7.872101         14.371106       6\n",
       "26        9.183482          7.513376       6\n",
       "27        8.318928         35.105239       6\n",
       "28        8.199444         16.428781       6\n",
       "29        9.225540          7.208478       6\n",
       "30        6.481946         17.860492       7\n",
       "31        8.657210          6.508525       7\n",
       "32        8.227238         58.575391       7\n",
       "33        7.972462         13.219149       7\n",
       "34        8.363202          7.789698       7"
      ]
     },
     "execution_count": 13,
     "metadata": {},
     "output_type": "execute_result"
    }
   ],
   "source": [
    "# This dataframe shows training and validation error results of each fold.\n",
    "\n",
    "kfold_cv"
   ]
  },
  {
   "cell_type": "code",
   "execution_count": 14,
   "id": "255022f3",
   "metadata": {},
   "outputs": [
    {
     "data": {
      "text/html": [
       "<div>\n",
       "<style scoped>\n",
       "    .dataframe tbody tr th:only-of-type {\n",
       "        vertical-align: middle;\n",
       "    }\n",
       "\n",
       "    .dataframe tbody tr th {\n",
       "        vertical-align: top;\n",
       "    }\n",
       "\n",
       "    .dataframe thead th {\n",
       "        text-align: right;\n",
       "    }\n",
       "</style>\n",
       "<table border=\"1\" class=\"dataframe\">\n",
       "  <thead>\n",
       "    <tr style=\"text-align: right;\">\n",
       "      <th></th>\n",
       "      <th>Degree</th>\n",
       "      <th>Validation Error</th>\n",
       "    </tr>\n",
       "  </thead>\n",
       "  <tbody>\n",
       "    <tr>\n",
       "      <th>0</th>\n",
       "      <td>1</td>\n",
       "      <td>549.466536</td>\n",
       "    </tr>\n",
       "    <tr>\n",
       "      <th>1</th>\n",
       "      <td>2</td>\n",
       "      <td>681.898542</td>\n",
       "    </tr>\n",
       "    <tr>\n",
       "      <th>2</th>\n",
       "      <td>3</td>\n",
       "      <td>10.831333</td>\n",
       "    </tr>\n",
       "    <tr>\n",
       "      <th>3</th>\n",
       "      <td>4</td>\n",
       "      <td>14.112977</td>\n",
       "    </tr>\n",
       "    <tr>\n",
       "      <th>4</th>\n",
       "      <td>5</td>\n",
       "      <td>19.012588</td>\n",
       "    </tr>\n",
       "    <tr>\n",
       "      <th>5</th>\n",
       "      <td>6</td>\n",
       "      <td>16.125396</td>\n",
       "    </tr>\n",
       "    <tr>\n",
       "      <th>6</th>\n",
       "      <td>7</td>\n",
       "      <td>20.790651</td>\n",
       "    </tr>\n",
       "  </tbody>\n",
       "</table>\n",
       "</div>"
      ],
      "text/plain": [
       "   Degree  Validation Error\n",
       "0       1        549.466536\n",
       "1       2        681.898542\n",
       "2       3         10.831333\n",
       "3       4         14.112977\n",
       "4       5         19.012588\n",
       "5       6         16.125396\n",
       "6       7         20.790651"
      ]
     },
     "execution_count": 14,
     "metadata": {},
     "output_type": "execute_result"
    }
   ],
   "source": [
    "# For each polynomial degree, mean of the validation errors are calculated and showed at the below.\n",
    "\n",
    "kfoldCV_degree = kfold_cv.groupby(\"Degree\")\n",
    "kfoldCV_degree = kfoldCV_degree.mean()\n",
    "kfoldCV_degree = kfoldCV_degree.reset_index()\n",
    "kfoldCV_degree[['Degree', 'Validation Error']]"
   ]
  },
  {
   "cell_type": "code",
   "execution_count": 15,
   "id": "06b3cee2",
   "metadata": {},
   "outputs": [
    {
     "data": {
      "text/plain": [
       "<matplotlib.legend.Legend at 0x2523e81fd60>"
      ]
     },
     "execution_count": 15,
     "metadata": {},
     "output_type": "execute_result"
    },
    {
     "data": {
      "image/png": "[encoded data removed]",
      "text/plain": [
       "<Figure size 640x480 with 1 Axes>"
      ]
     },
     "metadata": {},
     "output_type": "display_data"
    }
   ],
   "source": [
    "fig=plt.figure()\n",
    "ax = fig.add_subplot(1, 1, 1)\n",
    "ax.plot(kfoldCV_degree['Degree'].values,kfoldCV_degree['Validation Error'].values,label = '5 fold CV Error')\n",
    "ax.set_xlabel('Degree')\n",
    "ax.set_ylabel('Errors')\n",
    "ax.tick_params(axis='x', labelsize=8)\n",
    "ax.legend(loc='best')"
   ]
  },
  {
   "cell_type": "markdown",
   "id": "e3c1db7b",
   "metadata": {},
   "source": [
    "Like LOOCV, 3rd degree polynom gives lowest validation error (10.831333) for the data in 5-fold cross validation."
   ]
  },
  {
   "cell_type": "markdown",
   "id": "12c82059",
   "metadata": {},
   "source": [
    "**(e) Refit your model on the training set with the selected degree of polynomial \n",
    "and compute the test mean squared error and test R2 score**"
   ]
  },
  {
   "cell_type": "code",
   "execution_count": 16,
   "id": "dc956368",
   "metadata": {},
   "outputs": [
    {
     "name": "stdout",
     "output_type": "stream",
     "text": [
      "MSE: 7.106966845948189\n",
      "R2 Score: 0.9603145469268796\n"
     ]
    }
   ],
   "source": [
    "from sklearn import metrics\n",
    "from sklearn.metrics import r2_score\n",
    "\n",
    "# PolynomialFeatures function is reused with degree 3, and it is fitted with X_train.\n",
    "\n",
    "pol_feat = PolynomialFeatures(degree=3,include_bias=False)\n",
    "\n",
    "# After fit_transform, new X_train is X_train_poly which is 3rd degree polynomial version of X_train\n",
    "\n",
    "X_train_poly = pol_feat.fit_transform(X_train)\n",
    "\n",
    "# X_train_poly and Y_train are fitted into the polynomial model\n",
    "\n",
    "pol_model = LinearRegression()\n",
    "pol_model.fit(X_train_poly, Y_train)\n",
    "\n",
    "# X_test values are also fitted into the polynomial features, and predictions are made\n",
    "\n",
    "X_test_poly = pol_feat.fit_transform(X_test)\n",
    "Y_test_predict=pol_model.predict(X_test_poly)\n",
    "\n",
    "mse_test = mean_squared_error(Y_test, Y_test_predict)\n",
    "r2 = r2_score(Y_test, Y_test_predict)\n",
    "print(f\"MSE: {mse_test}\")\n",
    "print(f\"R2 Score: {r2}\")"
   ]
  },
  {
   "cell_type": "markdown",
   "id": "420774af",
   "metadata": {},
   "source": [
    "The mean squared error (MSE) of a test set is a measure of how well a regression model generalizes to new, unseen data. In the test set of the dataset, it is measured as 7.106966845948189. This quantifies the average squared difference between the actual and predicted values in the test set.\n",
    "\n",
    "The R2 score or the coefficient of determination, is a statistical measure that represents the proportion of the variance in the dependent variable that is predictable from the independent variables in a regression model. R2 takes values between 0 and 1, approaching 1 as the model's predictive accuracy improves. In this model, it is measured as 0.9603145469268796. This value is very close to 1, so the model is able to explain 96% of the variability in the dependent variable. In other words, the model provides a very good fit to the data, where the predicted values closely match the actual values."
   ]
  },
  {
   "cell_type": "markdown",
   "id": "e9a301dd",
   "metadata": {},
   "source": [
    "**f) Are the degrees of polynomials chosen with LOOCV and 5-fold cross \n",
    "validation same?**"
   ]
  },
  {
   "cell_type": "markdown",
   "id": "cce85bfd",
   "metadata": {},
   "source": [
    "Although the lowest validation error values are slightly different in LOOCV (10.591862) and 5-fold cross-validation (10.831333), both indicate that a 3rd-degree polynomial is the best fit for the given dataset."
   ]
  },
  {
   "cell_type": "code",
   "execution_count": null,
   "id": "25086113",
   "metadata": {},
   "outputs": [],
   "source": []
  }
 ],
 "metadata": {
  "kernelspec": {
   "display_name": "Python 3 (ipykernel)",
   "language": "python",
   "name": "python3"
  },
  "language_info": {
   "codemirror_mode": {
    "name": "ipython",
    "version": 3
   },
   "file_extension": ".py",
   "mimetype": "text/x-python",
   "name": "python",
   "nbconvert_exporter": "python",
   "pygments_lexer": "ipython3",
   "version": "3.9.13"
  }
 },
 "nbformat": 4,
 "nbformat_minor": 5
}
