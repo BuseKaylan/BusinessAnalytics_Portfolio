{
 "cells": [
  {
   "cell_type": "markdown",
   "id": "57d69c64",
   "metadata": {},
   "source": [
    "# INTEGER PROGRAMMING AND DECISION ANALYSIS"
   ]
  },
  {
   "cell_type": "markdown",
   "id": "822ad367",
   "metadata": {},
   "source": [
    "**1) To graduate from Basketweavers University with a major in operations research, a \n",
    "student must complete at least two math courses, at least two OR courses, and at least \n",
    "two computer courses. Some courses can be used to fulfill more than one requirement: \n",
    "Calculus can fulfill the math requirement; operations research, math and OR \n",
    "requirements; data structures, computer and math requirements; business statistics, \n",
    "math and OR requirements; computer simulation, OR and computer requirements; \n",
    "introduction to computer programming, computer requirement; and forecasting, OR \n",
    "and math requirements. Some courses are prerequisites for others: Calculus is a \n",
    "prerequisite for business statistics; introduction to computer programming is a \n",
    "prerequisite for computer simulation and for data structures; and business statistics is \n",
    "a prerequisite for forecasting. Formulate an IP that minimizes the number of courses \n",
    "needed to satisfy the major requirements demands.Clearly define decision variables, \n",
    "objective function and constraints. Solve the problem using PULP and report the code \n",
    "and output.**"
   ]
  },
  {
   "cell_type": "markdown",
   "id": "b321a82c",
   "metadata": {},
   "source": [
    "Decision variables:\n",
    "\n",
    "Decision variables (x1,2,3,4,5,6) are binary; \n",
    "\n",
    "taking related course is 1,\n",
    "\n",
    "no taking related course is 0.\n",
    "\n",
    "x1 = taking calculus course (0-1)\n",
    "\n",
    "x2 = taking operations research course (0-1)\n",
    "\n",
    "x3 = taking data structures course (0-1)\n",
    "\n",
    "x4 = taking business statistics course (0-1)\n",
    "\n",
    "x5 = taking computer simulation course (0-1)\n",
    "\n",
    "x6 = taking introduction to computer programming course (0-1)\n",
    "\n",
    "x7 = taking forecasting course (0-1)\n",
    "\n",
    "Objective function (minimize to taking number of courses):\n",
    "\n",
    "Min z = x1 + x2 + x3 + x4 + x5 + x6 + x7\n",
    "\n",
    "Constraints subject to:\n",
    "\n",
    "For fullfilling math courses' requirements:\n",
    "\n",
    "x1 + x2 + x3 + x4 + x7 >= 2\n",
    "\n",
    "For fullfilling OR courses' requirements:\n",
    "\n",
    "x2 + x4 + x5 + x7 >= 2\n",
    "\n",
    "For fullfilling computer courses' requirements:\n",
    "\n",
    "x3 + x5 + x6 >= 2\n",
    "\n",
    "Calculus is prerequisite of business statistics:\n",
    "\n",
    "x1 >= x4\n",
    "\n",
    "Introduction to computer programming is prerequisite of computer simulation and data structures:\n",
    "\n",
    "x6 >= x5\n",
    "\n",
    "x6 >= x3\n",
    "\n",
    "Business statistics is prerequisite of forecasting:\n",
    "\n",
    "x4 >= x7\n",
    "\n",
    "Variables are binary:\n",
    "\n",
    "x1,x2,x3,x4,x5,x6,x7 ∈ (0,1)"
   ]
  },
  {
   "cell_type": "code",
   "execution_count": 16,
   "id": "e6d4865a",
   "metadata": {},
   "outputs": [],
   "source": [
    "#Problem is created\n",
    "\n",
    "from pulp import *\n",
    "\n",
    "prob = LpProblem(\"Min_Taking_Courses\", LpMinimize)"
   ]
  },
  {
   "cell_type": "code",
   "execution_count": 17,
   "id": "ecfc31ed",
   "metadata": {},
   "outputs": [],
   "source": [
    "#Decision variables are added to the problem\n",
    "\n",
    "x1 = LpVariable(\"Calculus\", 0, cat = LpBinary)\n",
    "x2 = LpVariable(\"OperationsRes.\", 0, cat = LpBinary)\n",
    "x3 = LpVariable(\"DataStructures\", 0,  cat = LpBinary)\n",
    "x4 = LpVariable(\"BusinessStat\", 0, cat = LpBinary)\n",
    "x5 = LpVariable(\"Comp.Sim.\", 0, cat = LpBinary)\n",
    "x6 = LpVariable(\"Intro.Com.\", 0,  cat = LpBinary)\n",
    "x7 = LpVariable(\"Forecasting\", 0,  cat = LpBinary)"
   ]
  },
  {
   "cell_type": "code",
   "execution_count": 18,
   "id": "fb24d5de",
   "metadata": {},
   "outputs": [],
   "source": [
    "#Objective function is assigned\n",
    "\n",
    "prob += x1+x2+x3+x4+x5+x6+x7"
   ]
  },
  {
   "cell_type": "code",
   "execution_count": 19,
   "id": "cb2e5c9b",
   "metadata": {},
   "outputs": [],
   "source": [
    "#Constraints are added\n",
    "\n",
    "prob += x1+x2+x3+x4+x7 >= 2, \"Math Requirement\"\n",
    "prob += x2+x4+x5+x7 >= 2, \"OR Requirement\"\n",
    "prob += x3+x5+x6 >= 2, \"Computer Requirement\"\n",
    "prob += x1 >= x4, \"Prereq. Bussiness Stat.\"\n",
    "prob += x6 >= x5, \"Prereq. Comp. Sim.\"\n",
    "prob += x6 >= x3, \"Prereq. Data Str.\"\n",
    "prob += x4 >= x7, \"Prereq. Forecasting\""
   ]
  },
  {
   "cell_type": "code",
   "execution_count": 20,
   "id": "75a0e7ab",
   "metadata": {},
   "outputs": [
    {
     "data": {
      "text/plain": [
       "1"
      ]
     },
     "execution_count": 20,
     "metadata": {},
     "output_type": "execute_result"
    }
   ],
   "source": [
    "prob.solve()"
   ]
  },
  {
   "cell_type": "code",
   "execution_count": 21,
   "id": "db069fd8",
   "metadata": {},
   "outputs": [
    {
     "name": "stdout",
     "output_type": "stream",
     "text": [
      "Status: Optimal\n"
     ]
    }
   ],
   "source": [
    "print(\"Status:\", LpStatus[prob.status])"
   ]
  },
  {
   "cell_type": "code",
   "execution_count": 22,
   "id": "0242b251",
   "metadata": {},
   "outputs": [
    {
     "name": "stdout",
     "output_type": "stream",
     "text": [
      "BusinessStat = 0.0\n",
      "Calculus = 0.0\n",
      "Comp.Sim. = 1.0\n",
      "DataStructures = 1.0\n",
      "Forecasting = 0.0\n",
      "Intro.Com. = 1.0\n",
      "OperationsRes. = 1.0\n"
     ]
    }
   ],
   "source": [
    "#The problem is solved, and it gives optimal solution. Now, for each decision variables, optimum values are printed:\n",
    "\n",
    "for i in prob.variables():\n",
    "    print(i.name, \"=\", i.varValue)"
   ]
  },
  {
   "cell_type": "code",
   "execution_count": 23,
   "id": "6dac5afe",
   "metadata": {},
   "outputs": [
    {
     "name": "stdout",
     "output_type": "stream",
     "text": [
      "Minimum Courses which must taken =  4.0\n"
     ]
    }
   ],
   "source": [
    "#Then, optimum value of the objective function is:\n",
    "\n",
    "print(\"Minimum Courses which must taken = \", value(prob.objective))"
   ]
  },
  {
   "cell_type": "markdown",
   "id": "a261dd5f",
   "metadata": {},
   "source": [
    "To successfully graduate with a major in operations research from Basketweavers University, students are required to take at least these four courses: computer simulation, data structures, introduction to computer programming, and operations research."
   ]
  },
  {
   "cell_type": "markdown",
   "id": "395a8e55",
   "metadata": {},
   "source": [
    "**2) Glueco produces three types of glue on two different production lines. Each line can be \n",
    "utilized by up to seven workers at a time. Workers are paid 500 dollars per week on \n",
    "production line 1, and 900 dollars per week on production line 2. A week of production costs \n",
    "1,000 dollars to set up production line 1 and 2,000 dollars to set up production line 2. During a week \n",
    "on a production line, each worker produces the number of units of glue shown in the \n",
    "following Table.**"
   ]
  },
  {
   "cell_type": "markdown",
   "id": "7430e5b2",
   "metadata": {},
   "source": [
    "![title](ab.png)"
   ]
  },
  {
   "cell_type": "markdown",
   "id": "74782f6d",
   "metadata": {},
   "source": [
    "**Each week, at least 120 units of glue 1, at least 150 units of glue 2, and at least 200 \n",
    "units of glue 3 must be produced. Formulate an IP to minimize the total cost of \n",
    "meeting weekly demands. Clearly define decision variables, objective function and \n",
    "constraints. Solve the problem using PULP and report your code and output.**\n"
   ]
  },
  {
   "cell_type": "markdown",
   "id": "8040f9b8",
   "metadata": {},
   "source": [
    "Decision variables:\n",
    "    \n",
    "x1 = number of labor for line 1\n",
    "\n",
    "x2 = number of labor for line 2\n",
    "\n",
    "y1 = line 1 was used or not (binary, 0-1)\n",
    "\n",
    "y2 = line 2 was used or not (binary, 0-1)\n",
    "\n",
    "Objective function (minimize the total cost):\n",
    "\n",
    "Min z = 1000 * y1 + 2000 * y2 + 500 * x1 + 900 * x2\n",
    "\n",
    "Constraints subject to:\n",
    "\n",
    "Weekly demand for glue 1:\n",
    "\n",
    "20 * x1 + 50 * x2 >= 120\n",
    "\n",
    "Weekly demand for glue 2:\n",
    "\n",
    "30 * x1 + 35 * x2 >= 150\n",
    "\n",
    "Weekly demand for glue 3:\n",
    "\n",
    "40 * x1 + 45 * x2 >= 200\n",
    "\n",
    "Each line contains maximum 7 workers:\n",
    "\n",
    "x1 <= 7 * y1\n",
    "\n",
    "x2 <= 7 * y2\n",
    "\n",
    "Non-negativity and binary constraints:\n",
    "\n",
    "x1, x2 >= 0\n",
    "\n",
    "y1, y2 ∈ (0,1)"
   ]
  },
  {
   "cell_type": "code",
   "execution_count": 24,
   "id": "9215ef85",
   "metadata": {},
   "outputs": [],
   "source": [
    "#Problem:\n",
    "\n",
    "prob2 = LpProblem(\"Min_Total_Costs\", LpMinimize)"
   ]
  },
  {
   "cell_type": "code",
   "execution_count": 25,
   "id": "5444a226",
   "metadata": {},
   "outputs": [],
   "source": [
    "#Decision variables:\n",
    "\n",
    "x1 = LpVariable(\"Line1_workers\", 0, cat = LpInteger)\n",
    "x2 = LpVariable(\"Line2_workers\", 0, cat = LpInteger)\n",
    "y1 = LpVariable(\"Usage_Line1\", 0, cat = LpBinary)\n",
    "y2 = LpVariable(\"Usage_Line2\", 0, cat = LpBinary)"
   ]
  },
  {
   "cell_type": "code",
   "execution_count": 26,
   "id": "f16fe8e8",
   "metadata": {},
   "outputs": [],
   "source": [
    "#Objective function:\n",
    "\n",
    "prob2 += 1000*y1+2000*y2+500*x1+900*x2"
   ]
  },
  {
   "cell_type": "code",
   "execution_count": 27,
   "id": "df33951c",
   "metadata": {},
   "outputs": [],
   "source": [
    "#Constraints:\n",
    "\n",
    "prob2 += 20*x1+50*x2 >= 120, \"Unit of production Glue 1\"\n",
    "prob2 += 30*x1+35*x2 >= 150, \"Unit of production Glue 2\"\n",
    "prob2 += 40*x1+45*x2 >= 200, \"Unit of production Glue 3\"\n",
    "prob2 += x1 <= 7*y1, \"Workers in line 1\"\n",
    "prob2 += x2 <= 7*y2, \"Workers in line 2\""
   ]
  },
  {
   "cell_type": "code",
   "execution_count": 28,
   "id": "8cbe1cbc",
   "metadata": {},
   "outputs": [
    {
     "name": "stdout",
     "output_type": "stream",
     "text": [
      "Status: Optimal\n"
     ]
    }
   ],
   "source": [
    "prob2.solve()\n",
    "print(\"Status:\", LpStatus[prob2.status])"
   ]
  },
  {
   "cell_type": "code",
   "execution_count": 29,
   "id": "a86bcd73",
   "metadata": {},
   "outputs": [
    {
     "name": "stdout",
     "output_type": "stream",
     "text": [
      "Line1_workers = 6.0\n",
      "Line2_workers = 0.0\n",
      "Usage_Line1 = 1.0\n",
      "Usage_Line2 = 0.0\n"
     ]
    }
   ],
   "source": [
    "for i in prob2.variables():\n",
    "    print(i.name, \"=\", i.varValue)"
   ]
  },
  {
   "cell_type": "code",
   "execution_count": 30,
   "id": "21de6318",
   "metadata": {},
   "outputs": [
    {
     "name": "stdout",
     "output_type": "stream",
     "text": [
      "Minimum Cost =  4000.0\n"
     ]
    }
   ],
   "source": [
    "print(\"Minimum Cost = \", value(prob2.objective))"
   ]
  },
  {
   "cell_type": "markdown",
   "id": "1bacfcad",
   "metadata": {},
   "source": [
    "The findings indicate that by exclusively utilizing Line 1 with a workforce of 6 employees, Glueco can fulfill the weekly demand for glue types 1, 2, and 3, while minimizing the associated costs to 4,000 dollars."
   ]
  },
  {
   "cell_type": "markdown",
   "id": "2cb9dfdc",
   "metadata": {},
   "source": [
    "**3) A monopolist can purchase up to 17.25 oz of a chemical for 10 dollars/oz. At a cost of 3 dollars/oz, \n",
    "the chemical can be processed into an ounce of product 1; or, at a cost of 5 dollars/oz, the \n",
    "chemical can be processed into an ounce of product 2. If x1 oz of product 1 are \n",
    "produced, it sells for a price of 30-x1 per ounce. If x2 oz of product 2 are produced, it \n",
    "sells for a price of 50-2x2 per ounce. Determine how the monopolist can maximize \n",
    "profits. (Hint: Be aware that you need to transform the problem into a minimization \n",
    "problem and flip the direction of ≤ constraints by multiplying with -1 to solve the problem \n",
    "in scipy)**"
   ]
  },
  {
   "cell_type": "markdown",
   "id": "14279780",
   "metadata": {},
   "source": [
    "Decision variables:\n",
    "\n",
    "x1 = produced unit of product 1\n",
    "\n",
    "x2 = produced unit of product 2\n",
    "\n",
    "Objective function (maximize the profit):\n",
    "\n",
    "Max z = x1 * (30 - x1) + x2 * (50 - 2 * x2) - (10 + 3 * x1 + 5 * x2)\n",
    "\n",
    "This function is changed to minimization as:\n",
    "\n",
    "Min z = - x1 * (30 - x1) - x2 * (50 - 2 * x2) + (10 + 3 * x1 + 5 * x2)\n",
    "\n",
    "Constraints subject to:\n",
    "\n",
    "There are 17.25 oz of chemical:\n",
    "\n",
    "x1 + x2 <= 17.25\n",
    "\n",
    "Non-negativity constraints:\n",
    "\n",
    "x1, x2 >= 0"
   ]
  },
  {
   "cell_type": "code",
   "execution_count": 31,
   "id": "0a7ef9fa",
   "metadata": {},
   "outputs": [],
   "source": [
    "from scipy.optimize import minimize\n",
    "\n",
    "#Objective function is defined as minimization\n",
    "\n",
    "def objective_function(x):\n",
    "    return -(30 - x[0]) * x[0] - (50 - 2 * x[1]) * x[1] + (10 + 3 * x[0] + 5 * x[1])"
   ]
  },
  {
   "cell_type": "code",
   "execution_count": 32,
   "id": "3ae3c8a9",
   "metadata": {},
   "outputs": [],
   "source": [
    "#Constraints are defined\n",
    "\n",
    "constraints = ({'type': 'ineq', 'fun': lambda x: 17.25 - (x[0] + x[1])},\n",
    "               {'type': 'ineq', 'fun': lambda x: x[0]},\n",
    "               {'type': 'ineq', 'fun': lambda x: x[1]})"
   ]
  },
  {
   "cell_type": "code",
   "execution_count": 33,
   "id": "60f08b90",
   "metadata": {},
   "outputs": [],
   "source": [
    "#Starting point is created\n",
    "\n",
    "starting = [0, 0]\n",
    "\n",
    "#Minimization solver is applied\n",
    "\n",
    "result = minimize(objective_function, starting, constraints=constraints)"
   ]
  },
  {
   "cell_type": "code",
   "execution_count": 34,
   "id": "e201c63d",
   "metadata": {},
   "outputs": [
    {
     "name": "stdout",
     "output_type": "stream",
     "text": [
      "Optimal Solution:\n",
      "x1 = 8.49999936421625\n",
      "x2 = 8.750000635782825\n",
      "Maximum Profit = 387.87499999998954\n"
     ]
    }
   ],
   "source": [
    "#Optimal solution is printed\n",
    "\n",
    "optimal_solution = result.x\n",
    "\n",
    "print(\"Optimal Solution:\")\n",
    "print(\"x1 =\", optimal_solution[0])\n",
    "print(\"x2 =\", optimal_solution[1])\n",
    "print(\"Maximum Profit =\", -result.fun)  #The negative of the objective function value gives the maximum profit"
   ]
  },
  {
   "cell_type": "markdown",
   "id": "03a036c8",
   "metadata": {},
   "source": [
    "Results showed that the monopolist can reach maximum 387.499 dollars with producing 8.49 oz of product 1, and 8.75 oz of product 2."
   ]
  },
  {
   "cell_type": "markdown",
   "id": "243cbe97",
   "metadata": {},
   "source": [
    "**4) During the summer, Olympic swimmer Adam Johnson swims every day. On sunny \n",
    "summer days, he goes to an outdoor pool, where he may swim for no charge. On rainy\n",
    "days, he must go to a domed pool. At the beginning of the summer, he has the option \n",
    "of purchasing a 15 dollars season pass to the domed pool, which allows him use for the entire \n",
    "summer. If he doesn’t buy the season pass, he must pay 1 dollar each time he goes there. \n",
    "Past meteorological records indicate that there is a 60 percentage chance that the summer will \n",
    "be sunny (in which case there is an average of 6 rainy days during the summer) and a \n",
    "40 percentage chance the summer will be rainy (an average of 30 rainy days during the summer). \n",
    "Before the summer begins, Adam has the option of purchasing a long-range weather \n",
    "forecast for 1 dollar. The forecast predicts a sunny summer 80 percentage of the time and a rainy \n",
    "summer 20 percentage of the time. If the forecast predicts a sunny summer, there is a 70 percentage \n",
    "chance that the summer will actually be sunny. If the forecast predicts a rainy summer, \n",
    "there is an 80 percentage chance that the summer will actually be rainy. Assuming that Adam’s \n",
    "goal is to minimize his total expected cost for the summer, what should he do? Also \n",
    "find EVSI and EVPI**"
   ]
  },
  {
   "cell_type": "markdown",
   "id": "249e068f",
   "metadata": {},
   "source": [
    "![EVSI](soru4-1.png)"
   ]
  },
  {
   "cell_type": "markdown",
   "id": "896d82bb",
   "metadata": {},
   "source": [
    "There are two possible outcomes for the weather condition in the summer. The probability of it being rainy is 0.4, while the probability of it being sunny is 0.6. If the summer turns out to be sunny, Adam has two options: he can either purchase a season pass or not. If he chooses to buy a season pass, it would cost him 15 dollars. If he decides against purchasing the season pass, he will need to pay 6 dollars for entering the domed pool on the 6 rainy days in the sunny summer. Comparing these options for a sunny summer, Adam pays less if he opts not to purchase the season pass because it costs him only 6 dollars. On the other hand, if the summer turns out to be rainy, he again has the choice of buying the season pass for 15 dollars or not buying it. If he doesn't buy the season pass, he would have to pay 30 dollars for entering the domed pool on the 30 rainy days. Considering these options, buying the season pass (15 dollars) is less expensive than the alternative. Overall, by multiplying the relevant probabilities with 6 dollars and 15 dollars and summarizing them (6 * 0.6 + 15 * 0.4 = 9.6 dollars), 9.6 dollars represents the expected value of perfect information. If Adam were to purchase the season pass directly, it would cost him 15 dollars. Calculating the difference between 9.6 dollars and 15 dollars (-9.6-(-15) = 5.4 dollars), it is found that 5.4 dollars is the upper limit for the expected value of perfect information (EVPI). This means that Adam can pay a maximum of 5.4 dollars for absolute information about whether the summer will be rainy or sunny."
   ]
  },
  {
   "cell_type": "markdown",
   "id": "07796a97",
   "metadata": {},
   "source": [
    "![soru](soru4-2.png)"
   ]
  },
  {
   "cell_type": "markdown",
   "id": "6aa90b13",
   "metadata": {},
   "source": [
    "At the beginning, Adam has two options: purchasing the long-range weather forecast or not. As shown above, \n",
    "\n",
    "**if Adam does not purchase the forecast,** he again has two options: buying a season pass or not. If Adam buys the season pass, he pays 15 dollars. However, if he chooses not to buy the season pass, there are two possible events with a 0.6 probability of a sunny summer and a 0.4 probability of a rainy summer. If the summer turns out to be sunny, with an average of 6 rainy days, Adam pays 1 dollar for entering the domed pool for these six days, totaling 6 dollars. On the other hand, if the summer is rainy, with an average of 30 rainy days, he pays 30 dollars. Multiplying these costs by the probability values: 6 * 0.6 + 30 * 0.4 = 15.6 dollars. As seen in the decision tree, a cost of 15 dollars is a better choice than a cost of 15.6 dollars. Thus, if Adam does not purchase the long-range weather forecast, his minimum cost is 15 dollars.\n",
    "\n",
    "**If Adam purchases the long-range forecast,** there would be two possible events: a sunny summer prediction with a probability of 0.8 and a rainy summer prediction with a probability of 0.2.\n",
    "\n",
    "**If a sunny summer is predicted,** Adam faces two decisions: buying a season pass or not. If he buys the season pass, he will pay 16 dollars (15 dollars for the season pass, 1 dollar for the forecast). However, if he decides not to buy the season pass, there will be two possible outcomes: a sunny summer with a probability of 0.7 and a rainy summer with a probability of 0.3. If the summer turns out to be sunny, with an average of six rainy days, he pays 7 dollars (6 * 1 dollar for entering the domed pool, 1 dollar for the forecast). However, if the summer is rainy, with an average of 30 rainy days, Adam pays 31 dollars (30 * 1 dollar for entering the domed pool, 1 dollar for the forecast). If these values are multiplied by their respective probabilities 7 * 0.7 + 31 * 0.3 = 14.2 dollars, Adam pays a minimum of 14.2 dollars. When comparing 14.2 dollars and 16 dollars, a cost of 14.2 dollars is better than 16 dollars.\n",
    "\n",
    "**If a rainy summer is predicted by the forecast,** Adam again has two options. He can buy the season pass for 16 dollars, or he can choose not to buy the season pass. If he decides not to buy the season pass, there would be two possible outcomes: a sunny summer with a probability of 0.2 or a rainy summer with a probability of 0.8. If the summer turns out to be sunny, he pays only 7 dollars. On the other hand, if the summer is rainy, he pays 31 dollars. Again, these values are multiplied by their respective probability values 31 * 0.8 + 7 * 0.2 = 26.2 dollars, so Adam may pay 26.2 dollars if he does not buy the season pass while the long-range forecast predicts a rainy summer. When comparing 26.2 dollars and 16 dollars, paying 16 dollars is a better choice than paying 26.2 dollars.\n",
    "\n",
    "When multiplying the related probabilities with 16 dollars (predicted rainy summer) and 14.2 dollars (predicted sunny summer) and summing them: 14.2 * 0.8 + 16 * 0.2 = 14.2 dollars, Adam pays a minimum of 14.2 dollars. If 14.2 dollars are compared with 15 dollars, paying 14.2 dollars would be a better choice for Adam. Therefore, if Adam purchases the long-range weather forecast, he pays less than the no-purchasing choice.\n",
    "\n",
    "When comparing the first decision tree, Adam pays 1 dollar more for the long-range weather forecast in addition to the season pass. Also, if he does not purchase this forecast, he buys the season pass for 15 dollars rather than 16 dollars. Thus, the difference between these values (16 - 15 = 1 dollar) gives the value of sample information (EVSI). In this problem, EVSI is 1 dollar.\n",
    "\n",
    "**The optimum decision for Adam** would be purchasing long-range weather forecast information, and if it predicts a sunny summer, Adam should not purchase the season pass. Besides that, if the forecast predicts a rainy summer, Adam should purchase the season pass."
   ]
  },
  {
   "cell_type": "code",
   "execution_count": null,
   "id": "8763784d",
   "metadata": {},
   "outputs": [],
   "source": []
  }
 ],
 "metadata": {
  "kernelspec": {
   "display_name": "Python 3 (ipykernel)",
   "language": "python",
   "name": "python3"
  },
  "language_info": {
   "codemirror_mode": {
    "name": "ipython",
    "version": 3
   },
   "file_extension": ".py",
   "mimetype": "text/x-python",
   "name": "python",
   "nbconvert_exporter": "python",
   "pygments_lexer": "ipython3",
   "version": "3.9.13"
  }
 },
 "nbformat": 4,
 "nbformat_minor": 5
}
