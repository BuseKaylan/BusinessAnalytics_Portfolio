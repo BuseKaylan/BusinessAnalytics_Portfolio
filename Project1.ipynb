{
 "cells": [
  {
   "cell_type": "markdown",
   "id": "b28896b1",
   "metadata": {},
   "source": [
    "# LINEAR PROGRAMMING WITH PuLP"
   ]
  },
  {
   "cell_type": "markdown",
   "id": "25bb876a",
   "metadata": {},
   "source": [
    "**1) Sunco processes oil into aviation fuel and heating oil. It costs 40 dollars to purchase each 1000 barrels of oil, which is then distilled and yields 500 barrels of aviation fuel and 500 barrels of heating oil. Output from the distillation may be sold directly or processed in the catalytic cracker. If sold after distillation without further processing, aviation fuel sells for 60 dollars per 1000 barrels, and heating oil sells for 40 dollars per 1000 barrels. It takes 1 hour to process 1000 barrels of aviation fuel in the catalytic cracker, and these 1000 barrels can be sold for 130 dollars. It takes 45 minutes to process 1000 barrels of heating oil in the cracker, and these 1000 barrels can be sold for 90 dollars. Each day, at most 20000 barrels of oil can be purchased, and 8 hours of cracker time are available. Formulate an LP to maximize Sunco’s profits.**"
   ]
  },
  {
   "cell_type": "markdown",
   "id": "5cc4861f",
   "metadata": {},
   "source": [
    "**a) Clearly define decision variables, objective function and constraints.**"
   ]
  },
  {
   "cell_type": "code",
   "execution_count": 1,
   "id": "87eadaa5",
   "metadata": {},
   "outputs": [],
   "source": [
    "# Problem statement of the LP Problem: Maximize the profit of Sunco Oil, subject to relevant constraints.\n",
    "\n",
    "from pulp import *\n",
    "\n",
    "prob = LpProblem(\"Max_Profit_Model\", LpMaximize)"
   ]
  },
  {
   "cell_type": "markdown",
   "id": "b5844407",
   "metadata": {},
   "source": [
    "Decision Variables of the problem are;\n",
    "\n",
    "D1 = Amount of Purchased Oil From Sunco Oil (1000 barrels)\n",
    "\n",
    "D2 = Amount of Produced Aviation Fuel Distilled (1000 barrels)\n",
    "\n",
    "D3 = Amount of Produced Heating Oil Distilled (1000 barrels)\n",
    "\n",
    "D4 = Amount of Produced Aviation Fuel With Cracker Process (1000 barrels)\n",
    "\n",
    "D5 = Amount of Produced Heating Oil With Cracker Process (1000 barrels)"
   ]
  },
  {
   "cell_type": "code",
   "execution_count": 2,
   "id": "c4332933",
   "metadata": {},
   "outputs": [],
   "source": [
    "# By using PuLP, decision variables are assigned into the model at the below\n",
    "\n",
    "D1 = LpVariable(\"Purchased_Oil\", 0)\n",
    "D2 = LpVariable(\"Distilled_Avitation_Fuel\", 0)\n",
    "D3 = LpVariable(\"Distilled_Heating_Oil\", 0)\n",
    "D4 = LpVariable(\"Processed_Avitation_Fuel\", 0)\n",
    "D5 = LpVariable(\"Processed_Heating_Oil\", 0)"
   ]
  },
  {
   "cell_type": "markdown",
   "id": "3e0af776",
   "metadata": {},
   "source": [
    "Objective function of the problem is given as follows;\n",
    "\n",
    " \n",
    "Maximize z = 130 * D4 + 90 * D5 + 60 * (D2-D4) + 40 * (D3-D5) - 40 * D1\n",
    "\n",
    "Subject to these constraints:\n",
    "\n",
    "Purchased oil cannot exceed 20000 barrels:\n",
    "\n",
    "D1 <= 20           \n",
    "\n",
    "Half of the purchased oil has to be aviation fuel:\n",
    "\n",
    "D2 = 0.5 * D1          \n",
    "\n",
    "Half of the purchased oil has to be heating oil:\n",
    "\n",
    "D3 = 0.5 * D1          \n",
    "\n",
    "Cracker time capacity is 8 hours, and aviation fuel processed in 1 hour, heating oil in 0.75 hours:\n",
    "\n",
    "D4 + 0.75 * D5 <= 8     \n",
    "\n",
    "Distilled aviation fuel has to be more than processed one:\n",
    "\n",
    "D4 <= D2              \n",
    "\n",
    "Distilled heating oil has to be more than processed one:\n",
    "\n",
    "D5 <= D3              \n",
    "\n",
    "Non-negativity constraints:\n",
    "\n",
    "D1,D3,D4,D5 >= 0      "
   ]
  },
  {
   "cell_type": "code",
   "execution_count": 3,
   "id": "daff39bf",
   "metadata": {},
   "outputs": [],
   "source": [
    "# Objective function and constraints are added to the model as follows\n",
    "\n",
    "prob += 130*D4 + 90*D5 + 60*(D2-D4) + 40*(D3-D5) - 40*D1\n",
    "\n",
    "prob += D1 <= 20,          \"Purchased_Oil\"\n",
    "prob += D2 == 0.5*D1,      \"Distilled_Avitation_Fuel\"\n",
    "prob += D3 == 0.5*D1,      \"Distilled_Heating_Oil\"\n",
    "prob += D4 + 0.75*D5 <= 8, \"Cracker_Capacity\"\n",
    "prob += D4 <= D2,          \"Processed_Avitation_Fuel\"\n",
    "prob += D5 <= D3,          \"Processed_Heating_Oil\""
   ]
  },
  {
   "cell_type": "markdown",
   "id": "b51ccf4d",
   "metadata": {},
   "source": [
    "**b) Solve the problem using PULP and report the code and output.**"
   ]
  },
  {
   "cell_type": "code",
   "execution_count": 4,
   "id": "2e4f25f3",
   "metadata": {},
   "outputs": [
    {
     "data": {
      "text/plain": [
       "1"
      ]
     },
     "execution_count": 4,
     "metadata": {},
     "output_type": "execute_result"
    }
   ],
   "source": [
    "prob.solve()"
   ]
  },
  {
   "cell_type": "code",
   "execution_count": 5,
   "id": "6a9a002b",
   "metadata": {},
   "outputs": [
    {
     "name": "stdout",
     "output_type": "stream",
     "text": [
      "Status: Optimal\n"
     ]
    }
   ],
   "source": [
    "print(\"Status:\", LpStatus[prob.status])"
   ]
  },
  {
   "cell_type": "code",
   "execution_count": 6,
   "id": "cc97a6ea",
   "metadata": {},
   "outputs": [
    {
     "name": "stdout",
     "output_type": "stream",
     "text": [
      "Distilled_Avitation_Fuel = 10.0\n",
      "Distilled_Heating_Oil = 10.0\n",
      "Processed_Avitation_Fuel = 8.0\n",
      "Processed_Heating_Oil = 0.0\n",
      "Purchased_Oil = 20.0\n"
     ]
    }
   ],
   "source": [
    "#The problem is solved, and it gives optimal solution. Now, for each decision variables, optimum values are printed by following code blocks:\n",
    "\n",
    "for i in prob.variables():\n",
    "    print(i.name, \"=\", i.varValue)"
   ]
  },
  {
   "cell_type": "code",
   "execution_count": 7,
   "id": "a9198aa5",
   "metadata": {},
   "outputs": [
    {
     "name": "stdout",
     "output_type": "stream",
     "text": [
      "Maximum Profit of Sunco =  760.0\n"
     ]
    }
   ],
   "source": [
    "#Also, optimum value of the objective function is printed\n",
    "\n",
    "print(\"Maximum Profit of Sunco = \", value(prob.objective))"
   ]
  },
  {
   "cell_type": "markdown",
   "id": "f6851955",
   "metadata": {},
   "source": [
    "**c) Is it profitable to buy an extra barrel of oil?**"
   ]
  },
  {
   "cell_type": "markdown",
   "id": "e2563fe2",
   "metadata": {},
   "source": [
    "**d) How would Sunco’s profit change if they were able to purchase an extra barrel of oil?**"
   ]
  },
  {
   "cell_type": "markdown",
   "id": "27b92e95",
   "metadata": {},
   "source": [
    "**e) How would Sunco’s profit change if they were able to have an extra hour of cracker time?**"
   ]
  },
  {
   "cell_type": "code",
   "execution_count": 8,
   "id": "2ccf3451",
   "metadata": {},
   "outputs": [
    {
     "name": "stdout",
     "output_type": "stream",
     "text": [
      "Sensitivity Analysis Report\n",
      "                 Constraint  Slack  Shadow_Price\n",
      "0             Purchased_Oil   -0.0          10.0\n",
      "1  Distilled_Avitation_Fuel   -0.0          60.0\n",
      "2     Distilled_Heating_Oil   -0.0          40.0\n",
      "3          Cracker_Capacity   -0.0          70.0\n",
      "4  Processed_Avitation_Fuel    2.0          -0.0\n",
      "5     Processed_Heating_Oil   10.0          -0.0\n",
      "--------------------------------------------------\n",
      "                   Variable  Value  Reduced_Cost\n",
      "0  Distilled_Avitation_Fuel   10.0           0.0\n",
      "1     Distilled_Heating_Oil   10.0           0.0\n",
      "2  Processed_Avitation_Fuel    8.0           0.0\n",
      "3     Processed_Heating_Oil    0.0          -2.5\n",
      "4             Purchased_Oil   20.0           0.0\n"
     ]
    }
   ],
   "source": [
    "#For understanding and solving these questions (c,d,e). Conducting sensitivity analysis of the problem is crucial.\n",
    "\n",
    "import pandas as pd\n",
    "\n",
    "print(\"Sensitivity Analysis Report\")\n",
    "\n",
    "Constraint_Sensivity_Analysis = [{'Constraint':name, 'Slack': i.slack, \"Shadow_Price\":i.pi}\n",
    "                                for name, i in prob.constraints.items()]\n",
    "\n",
    "print(pd.DataFrame(Constraint_Sensivity_Analysis))\n",
    "print(\"--------------------------------------------------\")\n",
    "Variable_Sensitivity_Analysis = [{'Variable': j.name, 'Value': j.varValue, 'Reduced_Cost': j.dj}\n",
    "                                for j in prob.variables()]\n",
    "\n",
    "print(pd.DataFrame(Variable_Sensitivity_Analysis)[['Variable','Value','Reduced_Cost']])"
   ]
  },
  {
   "cell_type": "markdown",
   "id": "47b79f0d",
   "metadata": {},
   "source": [
    "(c)This table illustrates that one-unit increase in the right-hand side of the \"Purchased_Oil\" constraint results in a ten-unit increase in the objective function. The sensitivity report indicates that purchasing an additional barrel of oil would be profitable for Sunco. Note that, the sensitivity analysis report displays shadow prices for a quantity of 1000 barrels of oil, suggesting that purchasing an extra 1000 barrels of oil would increase the profit by 10 dollars. However, it is noteworthy that purchasing a single additional barrel of oil only leads to a 0,01-dollar increase.\n",
    "\n",
    "(d) If Sunco were able to purchase an extra barrel of oil, profit of Sunco is increasing by 0,01 dollar because shadow price of the purchased oil is 10 dollars for purchasing extra 1000 barrels of oil. Although purchasing an extra barrel of oil can be determined as additional profit, this change would be very small in the objective function.\n",
    "\n",
    "(e) If Sunco were able to have an extra hour of time, their profit would increase by 70 dollars. The shadow price of 'Cracker_Capacity' indicates that one unit increase in cracker capacity results in a 70-unit increase in the objective function, which represents the maximized profit of Sunco."
   ]
  },
  {
   "cell_type": "markdown",
   "id": "1f8c6909",
   "metadata": {},
   "source": [
    "**2) PM Computers assembles its own brand of personal computers from component parts it purchases overseas and domestically. PM sells most of its computers locally to different departments at State University as well as to individuals and businesses in the immediate geographic region. PM has enough regular production capacity to produce \n",
    "160 computers per week. It can produce an additional 50 computers with overtime. The cost of assembling, inspecting, and packaging a computer during regular time is 190 dollars. Overtime production of a computer costs 260 dollars. Furthermore, it costs 10 dollars per computer per week to hold a computer in inventory for future delivery. PM wants to meet all customer orders, with no shortages, to provide quality service. PM’s order schedule for the next 6 weeks is as follows:**"
   ]
  },
  {
   "attachments": {
    "2.png": {
     "image/png": "[encoded data removed]"
    }
   },
   "cell_type": "markdown",
   "id": "d2e11567",
   "metadata": {},
   "source": [
    "![2.png](attachment:2.png)"
   ]
  },
  {
   "cell_type": "markdown",
   "id": "6a85d989",
   "metadata": {},
   "source": [
    "**PM Computers wants to determine a schedule that will indicate how much regular and overtime production it will need each week to meet its orders at the minimum cost. The company wants no inventory left over at the end of the 6-week period.**"
   ]
  },
  {
   "cell_type": "markdown",
   "id": "dbcb690d",
   "metadata": {},
   "source": [
    "**a) Clearly define decision variables, objective function and constraints.**"
   ]
  },
  {
   "cell_type": "markdown",
   "id": "01436d15",
   "metadata": {},
   "source": [
    "Objective of the problem can be stated as minimizing the costs of PM Computer.\n",
    "\n",
    "In the light of that, there are three decision variables which are:\n",
    "\n",
    "Ri = Number of computer produced during regular time in week i (i = 1,2,3,4,5,6)\n",
    "\n",
    "Oi = Number of computer produced during overtime time in week i (i = 1,2,3,4,5,6)\n",
    "\n",
    "Si = Number of computers in stocks for week i (i = 1,2,3,4,5)\n",
    "\n",
    "Also, we can define weekly computer demand as computer_order(i)\n",
    "\n",
    "Therefore, the objective function of the study is:\n",
    "\n",
    "Min Z = 190 * Ri + 260 * Oi + 10 * Si\n",
    "\n",
    "Subject to these constraints:\n",
    "\n",
    "Regular production, overtime production and previous week's stock have to meet weekly computer demand:\n",
    "\n",
    "Ri + Oi + S(i-1) - Si >= computer_order(i)\n",
    "\n",
    "R1 + O1 - S1 >= 105\n",
    "\n",
    "S1 - S2 + O2 + R2 >= 170\n",
    "\n",
    "S2 - S3 + O3 + R3 >= 230\n",
    "\n",
    "S3 - S4 + O4 + R4 >= 180\n",
    "\n",
    "S4 - S5 + O5 + R5 >= 150\n",
    "\n",
    "S5 + O6 + R6 = 250\n",
    "                               \n",
    "Regular production allows maximum 160 computers in a week:\n",
    "\n",
    "Ri <= 160 (i=1,2,3,4,5,6)\n",
    "\n",
    "Overtime production allows only 50 additional computers to the regular production in a week:\n",
    "\n",
    "Oi <= 50  (i=1,2,3,4,5,6)    \n",
    "\n",
    "Non-negativity constraint:\n",
    "\n",
    "Ri,Oi,Si >= 0"
   ]
  },
  {
   "cell_type": "markdown",
   "id": "db1e1f92",
   "metadata": {},
   "source": [
    "**b) Solve the problem using PULP and report your code and output.**"
   ]
  },
  {
   "cell_type": "code",
   "execution_count": 9,
   "id": "6b563502",
   "metadata": {},
   "outputs": [],
   "source": [
    "# Amount of computer orders respect to the weeks (1 to 6) and costs of regular, overtime and inventory are assigned in the lists:\n",
    "\n",
    "orders = [105, 170, 230, 180, 150, 250]\n",
    "costs = [190, 260, 10]\n",
    "\n",
    "# Initialize the problem as minimization:\n",
    "\n",
    "problem = LpProblem(\"Cost_Minimization\", LpMinimize)\n",
    "\n",
    "# Decision Variables are added to the problem via using LpVariable.dicts:\n",
    "\n",
    "weeks = 6\n",
    "regular_max = 160\n",
    "overtime_max = 50\n",
    "\n",
    "R = LpVariable.dicts(\"Regular\", [i for i in range(1, weeks + 1)], 0)\n",
    "O = LpVariable.dicts(\"Overtime\", [i for i in range(1, weeks + 1)], 0)\n",
    "S = LpVariable.dicts(\"Stock\", [i for i in range(1, weeks)], 0)\n",
    "\n",
    "# Objective function is created:\n",
    "\n",
    "problem += lpSum([costs[0] * lpSum(R) + costs[1] * lpSum(O) + costs[2] * lpSum(S)])\n",
    "\n",
    "# There are 3 conditions for R,O and S variables respect to the problem, so constraints are added by using if loop:\n",
    "\n",
    "for i in range(1, weeks+1):\n",
    "    if i == 1:\n",
    "        problem += R[i] + O[i] - S[i] >= orders[i - 1], \"Week_%s\" %i\n",
    "    elif i < 6:\n",
    "        problem += R[i] + O[i] + S[i - 1] - S[i] >= orders[i - 1], \"Week_%s\" %i\n",
    "    else:\n",
    "        problem += R[i] + O[i] + S[i - 1] == orders[i - 1], \"Week_%s\" %i\n",
    "        \n",
    "\n",
    "# Constraints for capacity of Regular and Overtime production are assigned:\n",
    "\n",
    "for i in range(1, weeks + 1):\n",
    "    problem += R[i] <= regular_max, \"Regular_%s\" %i\n",
    "    problem += O[i] <= overtime_max, \"Overtime_%s\" %i\n"
   ]
  },
  {
   "cell_type": "code",
   "execution_count": 10,
   "id": "1541abb4",
   "metadata": {},
   "outputs": [
    {
     "data": {
      "text/plain": [
       "1"
      ]
     },
     "execution_count": 10,
     "metadata": {},
     "output_type": "execute_result"
    }
   ],
   "source": [
    "problem.solve()"
   ]
  },
  {
   "cell_type": "code",
   "execution_count": 11,
   "id": "a6f1f8fa",
   "metadata": {},
   "outputs": [
    {
     "name": "stdout",
     "output_type": "stream",
     "text": [
      "Status: Optimal\n"
     ]
    }
   ],
   "source": [
    "print(\"Status:\", LpStatus[problem.status])"
   ]
  },
  {
   "cell_type": "code",
   "execution_count": 13,
   "id": "31de23cf",
   "metadata": {},
   "outputs": [
    {
     "name": "stdout",
     "output_type": "stream",
     "text": [
      "Overtime_1 = 0.0\n",
      "Overtime_2 = 0.0\n",
      "Overtime_3 = 25.0\n",
      "Overtime_4 = 20.0\n",
      "Overtime_5 = 30.0\n",
      "Overtime_6 = 50.0\n",
      "Regular_1 = 160.0\n",
      "Regular_2 = 160.0\n",
      "Regular_3 = 160.0\n",
      "Regular_4 = 160.0\n",
      "Regular_5 = 160.0\n",
      "Regular_6 = 160.0\n",
      "Stock_1 = 55.0\n",
      "Stock_2 = 45.0\n",
      "Stock_3 = 0.0\n",
      "Stock_4 = 0.0\n",
      "Stock_5 = 40.0\n"
     ]
    }
   ],
   "source": [
    "# Optimum values for minimum cost of PM are printed:\n",
    "\n",
    "for j in problem.variables():\n",
    "    print(j.name, \"=\", j.varValue)"
   ]
  },
  {
   "cell_type": "code",
   "execution_count": 14,
   "id": "cd36800e",
   "metadata": {},
   "outputs": [
    {
     "name": "stdout",
     "output_type": "stream",
     "text": [
      "Minimum Cost of PM =  216300.0\n"
     ]
    }
   ],
   "source": [
    "print(\"Minimum Cost of PM = \", value(problem.objective))"
   ]
  },
  {
   "cell_type": "markdown",
   "id": "e71a0382",
   "metadata": {},
   "source": [
    "**c) If you had a chance to expand the regular production capacity, which week \n",
    "would you choose to decrease the cost most?**"
   ]
  },
  {
   "cell_type": "code",
   "execution_count": 15,
   "id": "33101a92",
   "metadata": {},
   "outputs": [
    {
     "name": "stdout",
     "output_type": "stream",
     "text": [
      "Sensitivity Analysis Report\n",
      "    Constraint  Slack  Shadow_Price\n",
      "0       Week_1   -0.0         240.0\n",
      "1       Week_2   -0.0         250.0\n",
      "2       Week_3   -0.0         260.0\n",
      "3       Week_4   -0.0         260.0\n",
      "4       Week_5   -0.0         260.0\n",
      "5       Week_6   -0.0         270.0\n",
      "6    Regular_1   -0.0         -50.0\n",
      "7   Overtime_1   50.0           0.0\n",
      "8    Regular_2   -0.0         -60.0\n",
      "9   Overtime_2   50.0           0.0\n",
      "10   Regular_3   -0.0         -70.0\n",
      "11  Overtime_3   25.0           0.0\n",
      "12   Regular_4   -0.0         -70.0\n",
      "13  Overtime_4   30.0           0.0\n",
      "14   Regular_5   -0.0         -70.0\n",
      "15  Overtime_5   20.0           0.0\n",
      "16   Regular_6   -0.0         -80.0\n",
      "17  Overtime_6   -0.0         -10.0\n",
      "--------------------------------------------------\n",
      "      Variable  Value  Reduced_Cost\n",
      "0   Overtime_1    0.0          20.0\n",
      "1   Overtime_2    0.0          10.0\n",
      "2   Overtime_3   25.0           0.0\n",
      "3   Overtime_4   20.0           0.0\n",
      "4   Overtime_5   30.0           0.0\n",
      "5   Overtime_6   50.0           0.0\n",
      "6    Regular_1  160.0           0.0\n",
      "7    Regular_2  160.0           0.0\n",
      "8    Regular_3  160.0           0.0\n",
      "9    Regular_4  160.0           0.0\n",
      "10   Regular_5  160.0           0.0\n",
      "11   Regular_6  160.0           0.0\n",
      "12     Stock_1   55.0           0.0\n",
      "13     Stock_2   45.0           0.0\n",
      "14     Stock_3    0.0          10.0\n",
      "15     Stock_4    0.0          10.0\n",
      "16     Stock_5   40.0           0.0\n"
     ]
    }
   ],
   "source": [
    "# For answering this question, sensivity analysis report should be analyzed, so:\n",
    "\n",
    "print(\"Sensitivity Analysis Report\")\n",
    "\n",
    "Constraint_Sensivity_Analysis = [{'Constraint':name, 'Slack': i.slack, \"Shadow_Price\":i.pi}\n",
    "                                for name, i in problem.constraints.items()]\n",
    "\n",
    "print(pd.DataFrame(Constraint_Sensivity_Analysis))\n",
    "print(\"--------------------------------------------------\")\n",
    "Variable_Sensitivity_Analysis = [{'Variable': j.name, 'Value': j.varValue, 'Reduced_Cost': j.dj}\n",
    "                                for j in problem.variables()]\n",
    "\n",
    "print(pd.DataFrame(Variable_Sensitivity_Analysis)[['Variable','Value','Reduced_Cost']])"
   ]
  },
  {
   "cell_type": "markdown",
   "id": "701f1df7",
   "metadata": {},
   "source": [
    "(c) If we can expand the regular production capacity in a week, Week 6 is the best choice for reducing costs. As shown in the sensitivity analysis report, the shadow price of 'Regular_6', which indicates Week 6 regular production, is 80 dollars. This implies that a 1-unit increase in regular production capacity in week 6 leads to an 80 dollars decrease in the production cost of the PM computers."
   ]
  },
  {
   "cell_type": "markdown",
   "id": "2bd45e18",
   "metadata": {},
   "source": [
    "**3) A jewelry store makes necklaces and bracelets from gold and platinum. The store has 18 ounces of gold and 20 ounces of platinum. Each necklace requires 3 ounces of gold and 2 ounces of platinum, whereas each bracelet requires 2 ounces of gold and 4 ounces of platinum. The demand for bracelets is no more than four. A necklace earns 300 dollars in profit and a bracelet, 400 dollars. The store wants to determine the number of necklaces and bracelets to make in order to maximize profit.**"
   ]
  },
  {
   "cell_type": "markdown",
   "id": "15ed12ea",
   "metadata": {},
   "source": [
    "**a) Formulate a linear programming model for this problem.**"
   ]
  },
  {
   "cell_type": "markdown",
   "id": "ea50fd69",
   "metadata": {},
   "source": [
    "Objective of the problem can be stated as maximizing the profit of the jewelry store.\n",
    "\n",
    "Thus, there are four decision variables which are:\n",
    "\n",
    "X1 = Amount of Produced Necklace\n",
    "\n",
    "X2 = Amount of Produced Bracelet\n",
    "\n",
    "By using decision variables, the objective function of the study is determined:\n",
    "\n",
    "Max Z = 300 * X1 + 400 * X2\n",
    "\n",
    "Subject to these constraints:\n",
    "\n",
    "The store has 18 ounces of gold and 20 ounces of platinum:\n",
    "\n",
    "3 * X1 + 2 * X2 <= 18\n",
    "\n",
    "2 * X1 + 4 * X2 <= 20\n",
    "\n",
    "Demand of bracelet does not exceed 4:\n",
    "\n",
    "X2 <= 4\n",
    "\n",
    "Non-negativity constraint:\n",
    "\n",
    "X1, X2 >= 0"
   ]
  },
  {
   "cell_type": "code",
   "execution_count": 16,
   "id": "4e39a5e2",
   "metadata": {},
   "outputs": [],
   "source": [
    "# By using PuLP, decision variables are added into the model at the below:\n",
    "\n",
    "X1 = LpVariable(\"Number_of_Necklace\", 0)\n",
    "X2 = LpVariable(\"Number_of_Bracelet\", 0)"
   ]
  },
  {
   "cell_type": "code",
   "execution_count": 17,
   "id": "80c2e33d",
   "metadata": {},
   "outputs": [],
   "source": [
    "# Objective function and constraints are assigned to the LP:\n",
    "\n",
    "problm = LpProblem(\"Profit_Maximization\", LpMaximize)\n",
    "\n",
    "problm += 300*X1 + 400*X2\n",
    "\n",
    "problm += 3*X1 + 2*X2 <= 18, \"Gold_Capacity\"\n",
    "problm += 2*X1 + 4*X2 <= 20, \"Platinum_Capacity\"\n",
    "problm += X2 <= 4, \"Bracelet_Demand\""
   ]
  },
  {
   "cell_type": "code",
   "execution_count": 18,
   "id": "bb5a874e",
   "metadata": {},
   "outputs": [
    {
     "data": {
      "text/plain": [
       "1"
      ]
     },
     "execution_count": 18,
     "metadata": {},
     "output_type": "execute_result"
    }
   ],
   "source": [
    "problm.solve()"
   ]
  },
  {
   "cell_type": "code",
   "execution_count": 19,
   "id": "726117da",
   "metadata": {},
   "outputs": [
    {
     "name": "stdout",
     "output_type": "stream",
     "text": [
      "Status: Optimal\n"
     ]
    }
   ],
   "source": [
    "print(\"Status:\", LpStatus[problm.status])"
   ]
  },
  {
   "cell_type": "code",
   "execution_count": 20,
   "id": "77b55428",
   "metadata": {},
   "outputs": [
    {
     "name": "stdout",
     "output_type": "stream",
     "text": [
      "Number_of_Bracelet = 3.0\n",
      "Number_of_Necklace = 4.0\n"
     ]
    }
   ],
   "source": [
    "# Optimum values for decision variables:\n",
    "\n",
    "for j in problm.variables():\n",
    "    print(j.name, \"=\", j.varValue)"
   ]
  },
  {
   "cell_type": "code",
   "execution_count": 21,
   "id": "c51ef1a8",
   "metadata": {},
   "outputs": [
    {
     "name": "stdout",
     "output_type": "stream",
     "text": [
      "Maximum Profit of the Jewelry Store =  2400.0\n"
     ]
    }
   ],
   "source": [
    "print(\"Maximum Profit of the Jewelry Store = \", value(problm.objective))"
   ]
  },
  {
   "cell_type": "code",
   "execution_count": 22,
   "id": "1c957bb9",
   "metadata": {},
   "outputs": [
    {
     "name": "stdout",
     "output_type": "stream",
     "text": [
      "Sensitivity Analysis Report\n",
      "          Constraint  Slack  Shadow_Price\n",
      "0      Gold_Capacity   -0.0          50.0\n",
      "1  Platinum_Capacity   -0.0          75.0\n",
      "2    Bracelet_Demand    1.0          -0.0\n",
      "--------------------------------------------------\n",
      "             Variable  Value  Reduced_Cost\n",
      "0  Number_of_Bracelet    3.0  5.684342e-14\n",
      "1  Number_of_Necklace    4.0  0.000000e+00\n"
     ]
    }
   ],
   "source": [
    "print(\"Sensitivity Analysis Report\")\n",
    "\n",
    "Constraint_Sensivity_Analysis = [{'Constraint':name, 'Slack': i.slack, \"Shadow_Price\":i.pi}\n",
    "                                for name, i in problm.constraints.items()]\n",
    "\n",
    "print(pd.DataFrame(Constraint_Sensivity_Analysis))\n",
    "print(\"--------------------------------------------------\")\n",
    "Variable_Sensitivity_Analysis = [{'Variable': j.name, 'Value': j.varValue, 'Reduced_Cost': j.dj}\n",
    "                                for j in problm.variables()]\n",
    "\n",
    "print(pd.DataFrame(Variable_Sensitivity_Analysis)[['Variable','Value','Reduced_Cost']])"
   ]
  },
  {
   "cell_type": "markdown",
   "id": "f826dc5a",
   "metadata": {},
   "source": [
    "(a) For maximizing profit, producing 3 bracelets and 4 necklaces is the optimum solution for this problem"
   ]
  },
  {
   "cell_type": "markdown",
   "id": "dca26585",
   "metadata": {},
   "source": [
    "**b) Solve this model by using graphical analysis. Determine the range of profit per necklace that leaves the current solution optimal using graphical analysis**"
   ]
  },
  {
   "cell_type": "code",
   "execution_count": 23,
   "id": "d01fb7c7",
   "metadata": {},
   "outputs": [
    {
     "data": {
      "image/png": "[encoded data removed]",
      "text/plain": [
       "<Figure size 800x600 with 1 Axes>"
      ]
     },
     "metadata": {},
     "output_type": "display_data"
    }
   ],
   "source": [
    "import numpy as np\n",
    "import matplotlib.pyplot as plt\n",
    "\n",
    "# Constraints are defined as lines:\n",
    "x = np.linspace(0, 10, 400)\n",
    "\n",
    "# Constraint 1: 3x1 + 2x2 <= 18\n",
    "y1 = (18 - 3 * x) / 2\n",
    "\n",
    "# Constraint 2: 2x1 + 4x2 <= 20\n",
    "y2 = (20 - 2 * x) / 4\n",
    "\n",
    "# Constraint 3: x2 <= 4\n",
    "y3 = 4 - 0 * x\n",
    "\n",
    "# Objective function line: 300*x1 + 400*x2\n",
    "objective = (- 3 * x) / 4\n",
    "\n",
    "# Line passing through points (0,6) and (8,0)\n",
    "x_additional = np.array([0, 8])\n",
    "y_additional = 6 - (3/4) * x_additional\n",
    "\n",
    "# Plot is made with these lines: \n",
    "plt.figure(figsize=(8,6))\n",
    "plt.plot(x, y1, label=r'$3x_1 + 2x_2 \\leq 18$', color='blue')\n",
    "plt.plot(x, y2, label=r'$2x_1 + 4x_2 \\leq 20$', color='green')\n",
    "plt.plot(x, y3, label=r'$x_2 \\leq 4$', color='orange')\n",
    "plt.plot(x_additional, y_additional, label='Objective Function', color='black', linestyle='dashed')\n",
    "\n",
    "# Calculate intersection points:\n",
    "A = np.array([[3, 2], [2, 4]])\n",
    "B = np.array([18, 20])\n",
    "intersection = np.linalg.solve(A, B)\n",
    "\n",
    "# Plot intersection and corner points:\n",
    "plt.plot(intersection[0], intersection[1], 'ro')\n",
    "\n",
    "# Plot the point (2,4):\n",
    "plt.plot(2, 4, 'go')\n",
    "\n",
    "# Plot the point (0,4):\n",
    "plt.plot(0, 4, 'bo')\n",
    "\n",
    "# Plot the point (6,0):\n",
    "plt.plot(6, 0, 'mo')\n",
    "\n",
    "# Plot the points (0,6) and (8,0):\n",
    "plt.plot(0, 6, 'ko')\n",
    "plt.plot(8, 0, 'yo')\n",
    "\n",
    "# Feasible region is filled:\n",
    "plt.fill_between(x, np.minimum(np.minimum(y2, y3), np.minimum(y2, y1)), 0, alpha=0.2, color='grey')\n",
    "\n",
    "plt.xlim((0, 10))\n",
    "plt.ylim((0, 10))\n",
    "plt.xlabel(r'$x_1$', fontsize=14)\n",
    "plt.ylabel(r'$x_2$', fontsize=14)\n",
    "plt.title('Feasible Region for the Jewelry Store Problem', fontsize=16)\n",
    "plt.legend(fontsize=12)\n",
    "plt.grid()\n",
    "\n",
    "# Adjust x and y ticks:\n",
    "plt.xticks(np.arange(0, 11, 1))\n",
    "plt.yticks(np.arange(0, 11, 1))\n",
    "\n",
    "plt.show()\n"
   ]
  },
  {
   "cell_type": "markdown",
   "id": "db0ddeaf",
   "metadata": {},
   "source": [
    "(b) According to the graph, extreme points of the feasible region are (0,4), (2,4), (4,3), (6,0). There can said that one of these points gives optimum solution of the problem, so:\n",
    "\n",
    "(X1, X2) = (0,4) - Blue point\n",
    "\n",
    "300 * 0 + 400 * 4 = 1600 dollars\n",
    "\n",
    "(X1, X2) = (2,4) - Green point\n",
    "\n",
    "300 * 2 + 400 * 4 = 2200 dollars\n",
    "\n",
    "(X1, X2) = (4,3) - Red point\n",
    "\n",
    "300 * 4 + 400 * 3 = 2400 dollars\n",
    "\n",
    "(X1, X2) = (6,0) - Purple point\n",
    "\n",
    "300 * 6 + 400 * 0 = 1800 dollars\n",
    "\n",
    "As understood that, red point (4, 3) gives maximum profit of the problem with 2400 dollars. Therefore, optimum solution should be 300 * X1 + 400 * X2 = 2400. \n",
    "\n",
    "To determine the range of profit per necklace that leaves the current solution optimal using graphical analysis, it is important to observe the current solution on the graph and the corresponding profit value. Then, there should be examined the variations on the graph that do not alter the current solution (2400 dollars), thereby determining the range within which changes in the profit per necklace do not affect the current solution. This analysis helps identify the intervals in which changes in the profit per necklace have an impact on the solution.\n",
    "\n",
    "Slope of blue line (3 * X1 + 2 * X2 <= 18) is m = -3/2\n",
    "\n",
    "Slope of green line (2 * X1 + 4 * X2 <= 20) is m = -1/2\n",
    "\n",
    "Slope of objective function's line (300 * X1 + 400 * X2 = 2400) is m = -3/4\n",
    "\n",
    "Let's say N * X1 + 400 * X2 = 2400, and m = -N/400 for finding range of profit per necklace that leaves the current solution optimal.\n",
    "\n",
    "There can be said that, the optimum solution would be same between -3/2 and -1/2. So there can be explained with this equation:\n",
    "\n",
    "1/2 < N/400 < 3/2, and multiply by 4:\n",
    "\n",
    "200 < N < 600\n",
    "\n",
    "According to this equation, it can be stated that a profit range of 200 to 600 dollars per necklace does not alter the optimal solution of the problem."
   ]
  },
  {
   "cell_type": "code",
   "execution_count": null,
   "id": "6b86cc99",
   "metadata": {},
   "outputs": [],
   "source": []
  }
 ],
 "metadata": {
  "kernelspec": {
   "display_name": "Python 3 (ipykernel)",
   "language": "python",
   "name": "python3"
  },
  "language_info": {
   "codemirror_mode": {
    "name": "ipython",
    "version": 3
   },
   "file_extension": ".py",
   "mimetype": "text/x-python",
   "name": "python",
   "nbconvert_exporter": "python",
   "pygments_lexer": "ipython3",
   "version": "3.9.13"
  }
 },
 "nbformat": 4,
 "nbformat_minor": 5
}
